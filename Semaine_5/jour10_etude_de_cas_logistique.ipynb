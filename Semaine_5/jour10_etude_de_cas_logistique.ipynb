{
 "cells": [
  {
   "cell_type": "markdown",
   "id": "6a51ccae",
   "metadata": {},
   "source": [
    "# 🧪 Jour 10 : Étude de cas — Régression Logistique\n",
    "\n",
    "Aujourd’hui, nous mettons en pratique la régression logistique à travers une **étude de cas complète**.\n",
    "\n",
    "🎯 Objectif : Prédire si un passager du Titanic a survécu (`survived`) ou non, à partir de certaines variables explicatives.\n",
    "\n",
    "Nous allons :\n",
    "- Préparer les données\n",
    "- Implémenter un modèle de régression logistique\n",
    "- Évaluer les performances du modèle\n",
    "- Visualiser les résultats"
   ]
  },
  {
   "cell_type": "code",
   "execution_count": null,
   "id": "f38d7663",
   "metadata": {},
   "outputs": [],
   "source": [
    "import pandas as pd\n",
    "import seaborn as sns\n",
    "import statsmodels.api as sm\n",
    "import matplotlib.pyplot as plt\n",
    "from sklearn.metrics import confusion_matrix, accuracy_score"
   ]
  },
  {
   "cell_type": "markdown",
   "id": "31f06079",
   "metadata": {},
   "source": [
    "## 📥 Chargement du dataset `titanic`"
   ]
  },
  {
   "cell_type": "code",
   "execution_count": null,
   "id": "45b9fdda",
   "metadata": {},
   "outputs": [],
   "source": [
    "df = sns.load_dataset('titanic')\n",
    "df.head()"
   ]
  },
  {
   "cell_type": "markdown",
   "id": "e136a2a7",
   "metadata": {},
   "source": [
    "## 🧹 Nettoyage des données"
   ]
  },
  {
   "cell_type": "code",
   "execution_count": null,
   "id": "5cdf8c1c",
   "metadata": {},
   "outputs": [],
   "source": [
    "# Suppression des valeurs manquantes\n",
    "df = df[['survived', 'pclass', 'sex', 'age', 'fare']].dropna()\n",
    "# Encodage de 'sex'\n",
    "df['sex'] = df['sex'].map({'male': 1, 'female': 0})\n",
    "df.head()"
   ]
  },
  {
   "cell_type": "markdown",
   "id": "2c818fa1",
   "metadata": {},
   "source": [
    "## 🎯 Variables explicatives et cible"
   ]
  },
  {
   "cell_type": "code",
   "execution_count": null,
   "id": "724c94ac",
   "metadata": {},
   "outputs": [],
   "source": [
    "X = df[['pclass', 'sex', 'age', 'fare']]\n",
    "y = df['survived']\n",
    "X = sm.add_constant(X)"
   ]
  },
  {
   "cell_type": "markdown",
   "id": "0f77d77d",
   "metadata": {},
   "source": [
    "## 📊 Modèle de régression logistique"
   ]
  },
  {
   "cell_type": "code",
   "execution_count": null,
   "id": "87b85224",
   "metadata": {},
   "outputs": [],
   "source": [
    "model = sm.Logit(y, X).fit()\n",
    "model.summary()"
   ]
  },
  {
   "cell_type": "markdown",
   "id": "d2ff9db3",
   "metadata": {},
   "source": [
    "## 🔮 Prédictions et classes"
   ]
  },
  {
   "cell_type": "code",
   "execution_count": null,
   "id": "d88bf782",
   "metadata": {},
   "outputs": [],
   "source": [
    "df['predicted_prob'] = model.predict(X)\n",
    "df['predicted_class'] = (df['predicted_prob'] > 0.5).astype(int)"
   ]
  },
  {
   "cell_type": "markdown",
   "id": "005e3004",
   "metadata": {},
   "source": [
    "## 🧾 Évaluation du modèle"
   ]
  },
  {
   "cell_type": "code",
   "execution_count": null,
   "id": "407c9405",
   "metadata": {},
   "outputs": [],
   "source": [
    "cm = confusion_matrix(df['survived'], df['predicted_class'])\n",
    "acc = accuracy_score(df['survived'], df['predicted_class'])\n",
    "print('Matrice de confusion :')\n",
    "print(cm)\n",
    "print(f'Précision du modèle : {acc:.2f}')"
   ]
  },
  {
   "cell_type": "markdown",
   "id": "5f0e7c07",
   "metadata": {},
   "source": [
    "## 📈 Visualisation des probabilités"
   ]
  },
  {
   "cell_type": "code",
   "execution_count": null,
   "id": "06c90ccc",
   "metadata": {},
   "outputs": [],
   "source": [
    "sns.histplot(data=df, x='predicted_prob', hue='survived', bins=20, kde=True)\n",
    "plt.title('Distribution des probabilités selon la survie')\n",
    "plt.show()"
   ]
  },
  {
   "cell_type": "markdown",
   "id": "ddd6eaf6",
   "metadata": {},
   "source": [
    "## 📝 Exercices\n",
    "- Essayez un autre seuil que 0.5 (ex : 0.4 ou 0.6) pour la classification.\n",
    "- Testez un modèle uniquement avec `sex` et `age`.\n",
    "- Analysez les coefficients : quelle variable influence le plus la survie ?"
   ]
  },
  {
   "cell_type": "code",
   "execution_count": null,
   "id": "1d1d5fa2-9cae-4b5a-a87e-e4174c9696a8",
   "metadata": {},
   "outputs": [],
   "source": [
    "def read_stata_large(file_path, chunksize=100000):\n",
    "    reader = pd.read_stata(file_path, chunksize=chunksize)\n",
    "    df_list = []\n",
    "    for chunk in reader:\n",
    "        df_list.append(chunk)\n",
    "    return pd.concat(df_list, ignore_index=True)"
   ]
  }
 ],
 "metadata": {
  "kernelspec": {
   "display_name": "Python 3 (ipykernel)",
   "language": "python",
   "name": "python3"
  },
  "language_info": {
   "codemirror_mode": {
    "name": "ipython",
    "version": 3
   },
   "file_extension": ".py",
   "mimetype": "text/x-python",
   "name": "python",
   "nbconvert_exporter": "python",
   "pygments_lexer": "ipython3",
   "version": "3.13.4"
  }
 },
 "nbformat": 4,
 "nbformat_minor": 5
}
