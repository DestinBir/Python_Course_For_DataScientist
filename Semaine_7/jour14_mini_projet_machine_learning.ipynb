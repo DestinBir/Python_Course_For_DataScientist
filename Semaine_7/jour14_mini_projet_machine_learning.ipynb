{
 "cells": [
  {
   "cell_type": "markdown",
   "id": "59aab7ab",
   "metadata": {},
   "source": [
    "# ⚗️ Jour 14 : Mini-Projet Machine Learning\n",
    "\n",
    "Aujourd’hui, nous appliquons ce que nous avons appris dans un mini-projet ML :\n",
    "\n",
    "🎯 Objectif : Prédire si une personne a survécu sur le Titanic à partir de `pclass`, `sex`, `age`, `fare`, etc."
   ]
  },
  {
   "cell_type": "code",
   "execution_count": null,
   "id": "6b020ad0",
   "metadata": {},
   "outputs": [],
   "source": [
    "import pandas as pd\n",
    "import seaborn as sns\n",
    "from sklearn.model_selection import train_test_split\n",
    "from sklearn.linear_model import LogisticRegression\n",
    "from sklearn.metrics import classification_report, confusion_matrix\n",
    "import matplotlib.pyplot as plt"
   ]
  },
  {
   "cell_type": "markdown",
   "id": "e917efc1",
   "metadata": {},
   "source": [
    "## 📥 Chargement et préparation du dataset"
   ]
  },
  {
   "cell_type": "code",
   "execution_count": null,
   "id": "6037392e",
   "metadata": {},
   "outputs": [],
   "source": [
    "df = sns.load_dataset('titanic')\n",
    "df = df[['survived', 'pclass', 'sex', 'age', 'fare']].dropna()\n",
    "df['sex'] = df['sex'].map({'male': 1, 'female': 0})\n",
    "X = df[['pclass', 'sex', 'age', 'fare']]\n",
    "y = df['survived']\n",
    "X_train, X_test, y_train, y_test = train_test_split(X, y, test_size=0.2, random_state=1)"
   ]
  },
  {
   "cell_type": "markdown",
   "id": "1979958b",
   "metadata": {},
   "source": [
    "## 🤖 Entraînement du modèle"
   ]
  },
  {
   "cell_type": "code",
   "execution_count": null,
   "id": "5e183adc",
   "metadata": {},
   "outputs": [],
   "source": [
    "model = LogisticRegression(max_iter=1000)\n",
    "model.fit(X_train, y_train)\n",
    "y_pred = model.predict(X_test)"
   ]
  },
  {
   "cell_type": "markdown",
   "id": "480c06d9",
   "metadata": {},
   "source": [
    "## 📊 Évaluation des performances"
   ]
  },
  {
   "cell_type": "code",
   "execution_count": null,
   "id": "5e89d67b",
   "metadata": {},
   "outputs": [],
   "source": [
    "print(confusion_matrix(y_test, y_pred))\n",
    "print(classification_report(y_test, y_pred))"
   ]
  },
  {
   "cell_type": "markdown",
   "id": "8f91656c",
   "metadata": {},
   "source": [
    "## 📝 Exercices\n",
    "- Essayez un autre algorithme de classification (RandomForest, SVM).\n",
    "- Ajoutez une variable supplémentaire (`embarked`, `sibsp`).\n",
    "- Analysez les faux positifs et faux négatifs."
   ]
  }
 ],
 "metadata": {},
 "nbformat": 4,
 "nbformat_minor": 5
}
