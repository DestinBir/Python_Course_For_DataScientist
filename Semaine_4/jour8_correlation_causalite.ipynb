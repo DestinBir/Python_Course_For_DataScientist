{
 "cells": [
  {
   "cell_type": "markdown",
   "id": "2d07270d",
   "metadata": {},
   "source": [
    "# 🔗 Jour 8 : Corrélation et Causalité\n",
    "\n",
    "Dans cette séance, nous allons étudier la notion de dépendance entre variables :\n",
    "- Corrélation de Pearson et Spearman\n",
    "- Visualisation des corrélations\n",
    "- Discussion sur la causalité et les limites des corrélations\n",
    "\n",
    "⚠️ Corrélation ≠ Causalité !"
   ]
  },
  {
   "cell_type": "code",
   "execution_count": 6,
   "id": "c7206e0e",
   "metadata": {},
   "outputs": [],
   "source": [
    "import pandas as pd\n",
    "import seaborn as sns\n",
    "import matplotlib.pyplot as plt\n",
    "from scipy.stats import pearsonr, spearmanr"
   ]
  },
  {
   "cell_type": "markdown",
   "id": "fcb1222d",
   "metadata": {},
   "source": [
    "## 📥 Chargement du dataset"
   ]
  },
  {
   "cell_type": "code",
   "execution_count": 7,
   "id": "b955ce38",
   "metadata": {},
   "outputs": [
    {
     "data": {
      "text/html": [
       "<div>\n",
       "<style scoped>\n",
       "    .dataframe tbody tr th:only-of-type {\n",
       "        vertical-align: middle;\n",
       "    }\n",
       "\n",
       "    .dataframe tbody tr th {\n",
       "        vertical-align: top;\n",
       "    }\n",
       "\n",
       "    .dataframe thead th {\n",
       "        text-align: right;\n",
       "    }\n",
       "</style>\n",
       "<table border=\"1\" class=\"dataframe\">\n",
       "  <thead>\n",
       "    <tr style=\"text-align: right;\">\n",
       "      <th></th>\n",
       "      <th>total_bill</th>\n",
       "      <th>tip</th>\n",
       "      <th>sex</th>\n",
       "      <th>smoker</th>\n",
       "      <th>day</th>\n",
       "      <th>time</th>\n",
       "      <th>size</th>\n",
       "    </tr>\n",
       "  </thead>\n",
       "  <tbody>\n",
       "    <tr>\n",
       "      <th>0</th>\n",
       "      <td>16.99</td>\n",
       "      <td>1.01</td>\n",
       "      <td>Female</td>\n",
       "      <td>No</td>\n",
       "      <td>Sun</td>\n",
       "      <td>Dinner</td>\n",
       "      <td>2</td>\n",
       "    </tr>\n",
       "    <tr>\n",
       "      <th>1</th>\n",
       "      <td>10.34</td>\n",
       "      <td>1.66</td>\n",
       "      <td>Male</td>\n",
       "      <td>No</td>\n",
       "      <td>Sun</td>\n",
       "      <td>Dinner</td>\n",
       "      <td>3</td>\n",
       "    </tr>\n",
       "    <tr>\n",
       "      <th>2</th>\n",
       "      <td>21.01</td>\n",
       "      <td>3.50</td>\n",
       "      <td>Male</td>\n",
       "      <td>No</td>\n",
       "      <td>Sun</td>\n",
       "      <td>Dinner</td>\n",
       "      <td>3</td>\n",
       "    </tr>\n",
       "    <tr>\n",
       "      <th>3</th>\n",
       "      <td>23.68</td>\n",
       "      <td>3.31</td>\n",
       "      <td>Male</td>\n",
       "      <td>No</td>\n",
       "      <td>Sun</td>\n",
       "      <td>Dinner</td>\n",
       "      <td>2</td>\n",
       "    </tr>\n",
       "    <tr>\n",
       "      <th>4</th>\n",
       "      <td>24.59</td>\n",
       "      <td>3.61</td>\n",
       "      <td>Female</td>\n",
       "      <td>No</td>\n",
       "      <td>Sun</td>\n",
       "      <td>Dinner</td>\n",
       "      <td>4</td>\n",
       "    </tr>\n",
       "  </tbody>\n",
       "</table>\n",
       "</div>"
      ],
      "text/plain": [
       "   total_bill   tip     sex smoker  day    time  size\n",
       "0       16.99  1.01  Female     No  Sun  Dinner     2\n",
       "1       10.34  1.66    Male     No  Sun  Dinner     3\n",
       "2       21.01  3.50    Male     No  Sun  Dinner     3\n",
       "3       23.68  3.31    Male     No  Sun  Dinner     2\n",
       "4       24.59  3.61  Female     No  Sun  Dinner     4"
      ]
     },
     "execution_count": 7,
     "metadata": {},
     "output_type": "execute_result"
    }
   ],
   "source": [
    "df = sns.load_dataset('tips')\n",
    "df.head()"
   ]
  },
  {
   "cell_type": "markdown",
   "id": "29ef5fbe",
   "metadata": {},
   "source": [
    "## 📊 Corrélation de Pearson\n",
    "Mesure la force de la relation linéaire."
   ]
  },
  {
   "cell_type": "code",
   "execution_count": 8,
   "id": "93df1467",
   "metadata": {},
   "outputs": [
    {
     "name": "stdout",
     "output_type": "stream",
     "text": [
      "Corrélation de Pearson: 0.676, p-value: 0.0000\n"
     ]
    }
   ],
   "source": [
    "pearson_corr, p_value = pearsonr(df['total_bill'], df['tip'])\n",
    "print(f'Corrélation de Pearson: {pearson_corr:.3f}, p-value: {p_value:.4f}')"
   ]
  },
  {
   "cell_type": "markdown",
   "id": "ffe8930c",
   "metadata": {},
   "source": [
    "## 🔁 Corrélation de Spearman\n",
    "Corrélation non linéaire, basée sur les rangs."
   ]
  },
  {
   "cell_type": "code",
   "execution_count": 9,
   "id": "5f55c825",
   "metadata": {},
   "outputs": [
    {
     "name": "stdout",
     "output_type": "stream",
     "text": [
      "Corrélation de Spearman: 0.679, p-value: 0.0000\n"
     ]
    }
   ],
   "source": [
    "spearman_corr, p_value_s = spearmanr(df['total_bill'], df['tip'])\n",
    "print(f'Corrélation de Spearman: {spearman_corr:.3f}, p-value: {p_value_s:.4f}')"
   ]
  },
  {
   "cell_type": "markdown",
   "id": "2a339dbb",
   "metadata": {},
   "source": [
    "## 🔥 Heatmap des corrélations"
   ]
  },
  {
   "cell_type": "code",
   "execution_count": 10,
   "id": "2ab09642",
   "metadata": {},
   "outputs": [
    {
     "data": {
      "image/png": "[encoded data removed]",
      "text/plain": [
       "<Figure size 640x480 with 2 Axes>"
      ]
     },
     "metadata": {},
     "output_type": "display_data"
    }
   ],
   "source": [
    "sns.heatmap(df.corr(numeric_only=True), annot=True, cmap='coolwarm')\n",
    "plt.title('Corrélations entre variables numériques')\n",
    "plt.show()"
   ]
  },
  {
   "cell_type": "markdown",
   "id": "b89eb9fd",
   "metadata": {},
   "source": [
    "## 🤔 Corrélation ≠ Causalité\n",
    "- Une forte corrélation ne prouve **pas** qu’une variable cause l’autre.\n",
    "- Exemple : Le nombre de glaces vendues et les noyades sont corrélés — mais c’est dû à la température !\n",
    "- Pour étudier la causalité : expériences contrôlées, randomisation, modèles économétriques."
   ]
  },
  {
   "cell_type": "markdown",
   "id": "d16d9d50",
   "metadata": {},
   "source": [
    "## 📝 Exercices\n",
    "- Calculez la corrélation entre `size` et `tip`, puis entre `total_bill` et `size`.\n",
    "- Testez la corrélation entre `age` et `fare` dans le dataset `titanic`.\n",
    "- Créez une heatmap pour le dataset `iris` avec `sns.load_dataset('iris')`."
   ]
  }
 ],
 "metadata": {
  "kernelspec": {
   "display_name": "tf",
   "language": "python",
   "name": "python3"
  },
  "language_info": {
   "codemirror_mode": {
    "name": "ipython",
    "version": 3
   },
   "file_extension": ".py",
   "mimetype": "text/x-python",
   "name": "python",
   "nbconvert_exporter": "python",
   "pygments_lexer": "ipython3",
   "version": "3.9.20"
  }
 },
 "nbformat": 4,
 "nbformat_minor": 5
}
