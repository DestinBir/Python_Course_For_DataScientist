{
 "cells": [
  {
   "cell_type": "markdown",
   "id": "d354d791",
   "metadata": {},
   "source": [
    "# 🧪 Jour 7 : Tests Statistiques en Python\n",
    "\n",
    "Dans cette séance, nous allons apprendre à réaliser les tests statistiques classiques :\n",
    "- Test de Student (t-test)\n",
    "- ANOVA\n",
    "- Test du chi²\n",
    "- Test de normalité\n",
    "Nous utiliserons `scipy.stats` et `statsmodels`."
   ]
  },
  {
   "cell_type": "code",
   "execution_count": 1,
   "id": "74e681fb",
   "metadata": {},
   "outputs": [],
   "source": [
    "import pandas as pd\n",
    "import seaborn as sns\n",
    "import matplotlib.pyplot as plt\n",
    "from scipy import stats\n",
    "import statsmodels.api as sm"
   ]
  },
  {
   "cell_type": "markdown",
   "id": "5a0a3397",
   "metadata": {},
   "source": [
    "## 📥 Chargement des données"
   ]
  },
  {
   "cell_type": "code",
   "execution_count": 3,
   "id": "72ba919c",
   "metadata": {},
   "outputs": [
    {
     "data": {
      "text/html": [
       "<div>\n",
       "<style scoped>\n",
       "    .dataframe tbody tr th:only-of-type {\n",
       "        vertical-align: middle;\n",
       "    }\n",
       "\n",
       "    .dataframe tbody tr th {\n",
       "        vertical-align: top;\n",
       "    }\n",
       "\n",
       "    .dataframe thead th {\n",
       "        text-align: right;\n",
       "    }\n",
       "</style>\n",
       "<table border=\"1\" class=\"dataframe\">\n",
       "  <thead>\n",
       "    <tr style=\"text-align: right;\">\n",
       "      <th></th>\n",
       "      <th>total_bill</th>\n",
       "      <th>tip</th>\n",
       "      <th>sex</th>\n",
       "      <th>smoker</th>\n",
       "      <th>day</th>\n",
       "      <th>time</th>\n",
       "      <th>size</th>\n",
       "    </tr>\n",
       "  </thead>\n",
       "  <tbody>\n",
       "    <tr>\n",
       "      <th>0</th>\n",
       "      <td>16.99</td>\n",
       "      <td>1.01</td>\n",
       "      <td>Female</td>\n",
       "      <td>No</td>\n",
       "      <td>Sun</td>\n",
       "      <td>Dinner</td>\n",
       "      <td>2</td>\n",
       "    </tr>\n",
       "    <tr>\n",
       "      <th>1</th>\n",
       "      <td>10.34</td>\n",
       "      <td>1.66</td>\n",
       "      <td>Male</td>\n",
       "      <td>No</td>\n",
       "      <td>Sun</td>\n",
       "      <td>Dinner</td>\n",
       "      <td>3</td>\n",
       "    </tr>\n",
       "    <tr>\n",
       "      <th>2</th>\n",
       "      <td>21.01</td>\n",
       "      <td>3.50</td>\n",
       "      <td>Male</td>\n",
       "      <td>No</td>\n",
       "      <td>Sun</td>\n",
       "      <td>Dinner</td>\n",
       "      <td>3</td>\n",
       "    </tr>\n",
       "    <tr>\n",
       "      <th>3</th>\n",
       "      <td>23.68</td>\n",
       "      <td>3.31</td>\n",
       "      <td>Male</td>\n",
       "      <td>No</td>\n",
       "      <td>Sun</td>\n",
       "      <td>Dinner</td>\n",
       "      <td>2</td>\n",
       "    </tr>\n",
       "    <tr>\n",
       "      <th>4</th>\n",
       "      <td>24.59</td>\n",
       "      <td>3.61</td>\n",
       "      <td>Female</td>\n",
       "      <td>No</td>\n",
       "      <td>Sun</td>\n",
       "      <td>Dinner</td>\n",
       "      <td>4</td>\n",
       "    </tr>\n",
       "  </tbody>\n",
       "</table>\n",
       "</div>"
      ],
      "text/plain": [
       "   total_bill   tip     sex smoker  day    time  size\n",
       "0       16.99  1.01  Female     No  Sun  Dinner     2\n",
       "1       10.34  1.66    Male     No  Sun  Dinner     3\n",
       "2       21.01  3.50    Male     No  Sun  Dinner     3\n",
       "3       23.68  3.31    Male     No  Sun  Dinner     2\n",
       "4       24.59  3.61  Female     No  Sun  Dinner     4"
      ]
     },
     "execution_count": 3,
     "metadata": {},
     "output_type": "execute_result"
    }
   ],
   "source": [
    "df = sns.load_dataset('tips')\n",
    "df.head()"
   ]
  },
  {
   "cell_type": "markdown",
   "id": "9d504f89",
   "metadata": {},
   "source": [
    "## ✅ T-test (Student)\n",
    "Comparer les moyennes de deux groupes."
   ]
  },
  {
   "cell_type": "code",
   "execution_count": 4,
   "id": "d5f0e142",
   "metadata": {},
   "outputs": [
    {
     "name": "stdout",
     "output_type": "stream",
     "text": [
      "T-statistic: 1.388, p-value: 0.166\n"
     ]
    }
   ],
   "source": [
    "male = df[df['sex'] == 'Male']['tip']\n",
    "female = df[df['sex'] == 'Female']['tip']\n",
    "t_stat, p_val = stats.ttest_ind(male, female)\n",
    "print(f'T-statistic: {t_stat:.3f}, p-value: {p_val:.3f}')"
   ]
  },
  {
   "cell_type": "markdown",
   "id": "0a220862",
   "metadata": {},
   "source": [
    "## 📊 ANOVA : comparaison de moyennes pour plusieurs groupes"
   ]
  },
  {
   "cell_type": "code",
   "execution_count": 5,
   "id": "4f8320af",
   "metadata": {},
   "outputs": [
    {
     "name": "stdout",
     "output_type": "stream",
     "text": [
      "F-statistic: 1.672, p-value: 0.174\n"
     ]
    }
   ],
   "source": [
    "anova_result = stats.f_oneway(\n",
    "    df[df['day'] == 'Thur']['tip'],\n",
    "    df[df['day'] == 'Fri']['tip'],\n",
    "    df[df['day'] == 'Sat']['tip'],\n",
    "    df[df['day'] == 'Sun']['tip']\n",
    ")\n",
    "print(f'F-statistic: {anova_result.statistic:.3f}, p-value: {anova_result.pvalue:.3f}')"
   ]
  },
  {
   "cell_type": "markdown",
   "id": "bcdbd7b5",
   "metadata": {},
   "source": [
    "## 🔢 Test du chi² : indépendance entre deux variables catégorielles"
   ]
  },
  {
   "cell_type": "code",
   "execution_count": 6,
   "id": "75ffa98e",
   "metadata": {},
   "outputs": [
    {
     "name": "stdout",
     "output_type": "stream",
     "text": [
      "Chi² = 0.00, p-value = 1.0000\n"
     ]
    }
   ],
   "source": [
    "contingency_table = pd.crosstab(df['sex'], df['smoker'])\n",
    "chi2, p, dof, expected = stats.chi2_contingency(contingency_table)\n",
    "print(f'Chi² = {chi2:.2f}, p-value = {p:.4f}')"
   ]
  },
  {
   "cell_type": "markdown",
   "id": "3f2a90f1",
   "metadata": {},
   "source": [
    "## 📏 Test de normalité (Shapiro-Wilk)"
   ]
  },
  {
   "cell_type": "code",
   "execution_count": 7,
   "id": "d5a735a7",
   "metadata": {},
   "outputs": [
    {
     "name": "stdout",
     "output_type": "stream",
     "text": [
      "Shapiro-Wilk statistic: 0.898, p-value: 0.0000\n"
     ]
    }
   ],
   "source": [
    "shapiro_stat, shapiro_p = stats.shapiro(df['tip'])\n",
    "print(f'Shapiro-Wilk statistic: {shapiro_stat:.3f}, p-value: {shapiro_p:.4f}')"
   ]
  },
  {
   "cell_type": "markdown",
   "id": "c9fe7ebc",
   "metadata": {},
   "source": [
    "## 📝 Exercices\n",
    "- Testez si les pourboires varient selon le fait de fumer (`smoker`).\n",
    "- Testez si `total_bill` suit une loi normale.\n",
    "- Faites une ANOVA pour la variable `total_bill` par jour.\n",
    "- Testez si le genre (`sex`) et le jour (`day`) sont indépendants."
   ]
  }
 ],
 "metadata": {
  "kernelspec": {
   "display_name": "tf",
   "language": "python",
   "name": "python3"
  },
  "language_info": {
   "codemirror_mode": {
    "name": "ipython",
    "version": 3
   },
   "file_extension": ".py",
   "mimetype": "text/x-python",
   "name": "python",
   "nbconvert_exporter": "python",
   "pygments_lexer": "ipython3",
   "version": "3.9.20"
  }
 },
 "nbformat": 4,
 "nbformat_minor": 5
}
