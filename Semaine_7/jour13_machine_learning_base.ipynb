{
 "cells": [
  {
   "cell_type": "markdown",
   "id": "b1236fed",
   "metadata": {},
   "source": [
    "# Jour 13 : Introduction au Machine Learning avec `scikit-learn`\n",
    "\n",
    "Aujourd’hui, nous découvrons les bases du Machine Learning supervisé avec la bibliothèque `scikit-learn`.\n",
    "\n",
    "📌 Objectifs :\n",
    "- Comprendre les étapes d’un pipeline ML\n",
    "- Implémenter une régression linéaire et une classification\n",
    "- Évaluer les performances avec précision, matrice de confusion, etc."
   ]
  },
  {
   "cell_type": "code",
   "execution_count": null,
   "id": "3950be0f",
   "metadata": {},
   "outputs": [],
   "source": [
    "import pandas as pd\n",
    "import seaborn as sns\n",
    "from sklearn.model_selection import train_test_split\n",
    "from sklearn.linear_model import LinearRegression, LogisticRegression\n",
    "from sklearn.metrics import mean_squared_error, accuracy_score, confusion_matrix\n",
    "import matplotlib.pyplot as plt"
   ]
  },
  {
   "cell_type": "markdown",
   "id": "6893a5ff",
   "metadata": {},
   "source": [
    "## 📥 Chargement du dataset `tips`"
   ]
  },
  {
   "cell_type": "code",
   "execution_count": null,
   "id": "9ff630c1",
   "metadata": {},
   "outputs": [],
   "source": [
    "df = sns.load_dataset('tips')\n",
    "df['sex'] = df['sex'].map({'Male': 1, 'Female': 0})\n",
    "df.dropna(inplace=True)\n",
    "df.head()"
   ]
  },
  {
   "cell_type": "markdown",
   "id": "297a832b",
   "metadata": {},
   "source": [
    "## ✂️ Séparation des données en train/test"
   ]
  },
  {
   "cell_type": "code",
   "execution_count": null,
   "id": "c7627da0",
   "metadata": {},
   "outputs": [],
   "source": [
    "X = df[['total_bill', 'size']]\n",
    "y = df['tip']\n",
    "X_train, X_test, y_train, y_test = train_test_split(X, y, test_size=0.2, random_state=42)"
   ]
  },
  {
   "cell_type": "markdown",
   "id": "95d3e81b",
   "metadata": {},
   "source": [
    "## 📈 Régression Linéaire"
   ]
  },
  {
   "cell_type": "code",
   "execution_count": null,
   "id": "3ae9c6da",
   "metadata": {},
   "outputs": [],
   "source": [
    "model_lr = LinearRegression()\n",
    "model_lr.fit(X_train, y_train)\n",
    "y_pred = model_lr.predict(X_test)\n",
    "mse = mean_squared_error(y_test, y_pred)\n",
    "print(f'MSE: {mse:.2f}')"
   ]
  },
  {
   "cell_type": "markdown",
   "id": "8045ba89",
   "metadata": {},
   "source": [
    "## 🧠 Classification : fumeur ou pas ?"
   ]
  },
  {
   "cell_type": "code",
   "execution_count": null,
   "id": "fd5fa4b1",
   "metadata": {},
   "outputs": [],
   "source": [
    "df['smoker'] = df['smoker'].map({'Yes': 1, 'No': 0})\n",
    "X = df[['total_bill', 'tip', 'size']]\n",
    "y = df['smoker']\n",
    "X_train, X_test, y_train, y_test = train_test_split(X, y, test_size=0.2, random_state=0)\n",
    "clf = LogisticRegression()\n",
    "clf.fit(X_train, y_train)\n",
    "y_pred = clf.predict(X_test)\n",
    "print('Accuracy:', accuracy_score(y_test, y_pred))\n",
    "print('Confusion Matrix:\\n', confusion_matrix(y_test, y_pred))"
   ]
  }
 ],
 "metadata": {
  "language_info": {
   "name": "python"
  }
 },
 "nbformat": 4,
 "nbformat_minor": 5
}
