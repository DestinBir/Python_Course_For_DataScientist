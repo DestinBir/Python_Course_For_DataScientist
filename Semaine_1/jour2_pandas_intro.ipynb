{
 "cells": [
  {
   "cell_type": "markdown",
   "id": "671794c3",
   "metadata": {},
   "source": [
    "# 📊 Jour 2 : Premiers pas avec `pandas`\n",
    "\n",
    "Dans ce cours, nous allons découvrir la bibliothèque **`pandas`**, essentielle pour la manipulation et l’analyse des données en Python. \n",
    "Vous apprendrez à charger des fichiers, explorer vos données et effectuer un nettoyage simple. `pandas` est l'équivalent des tables en STATA ou des DataFrames en R."
   ]
  },
  {
   "cell_type": "code",
   "execution_count": null,
   "id": "b1dde125",
   "metadata": {},
   "outputs": [],
   "source": [
    "# 📦 Importation des bibliothèques\n",
    "import pandas as pd\n",
    "import numpy as np"
   ]
  },
  {
   "cell_type": "markdown",
   "id": "4883a191",
   "metadata": {},
   "source": [
    "## 📥 Chargement des données\n",
    "Nous allons utiliser un dataset au format CSV. Si vous êtes sur Google Colab, vous pouvez charger le fichier depuis votre ordinateur ou un lien en ligne."
   ]
  },
  {
   "cell_type": "code",
   "execution_count": null,
   "id": "7f2a9bae",
   "metadata": {},
   "outputs": [],
   "source": [
    "# Exemple avec un lien en ligne (dataset des passagers du Titanic)\n",
    "url = 'https://raw.githubusercontent.com/datasciencedojo/datasets/master/titanic.csv'\n",
    "df = pd.read_csv(url)\n",
    "df.head()  # aperçu des 5 premières lignes"
   ]
  },
  {
   "cell_type": "markdown",
   "id": "8025a9a7",
   "metadata": {},
   "source": [
    "## 🔍 Exploration des données\n",
    "Comprendre la structure et les types de données, ainsi que repérer les valeurs manquantes ou incohérentes."
   ]
  },
  {
   "cell_type": "code",
   "execution_count": null,
   "id": "2584789c",
   "metadata": {},
   "outputs": [],
   "source": [
    "df.info()  # résumé des colonnes et types\n",
    "df.describe()  # statistiques descriptives des colonnes numériques"
   ]
  },
  {
   "cell_type": "markdown",
   "id": "9c43de76",
   "metadata": {},
   "source": [
    "## 📌 Accès aux colonnes et lignes\n",
    "Vous pouvez accéder à une colonne comme ceci : `df['NomDeColonne']`. Voici quelques exemples :"
   ]
  },
  {
   "cell_type": "code",
   "execution_count": null,
   "id": "e4456f76",
   "metadata": {},
   "outputs": [],
   "source": [
    "df['Age'].head()  # accès à la colonne Age\n",
    "df[['Sex', 'Survived']].head()  # accès à plusieurs colonnes"
   ]
  },
  {
   "cell_type": "markdown",
   "id": "1bd6cf87",
   "metadata": {},
   "source": [
    "## 🧹 Nettoyage simple\n",
    "Suppression ou remplacement des valeurs manquantes :"
   ]
  },
  {
   "cell_type": "code",
   "execution_count": null,
   "id": "03d8bfd4",
   "metadata": {},
   "outputs": [],
   "source": [
    "# Remplacer les valeurs manquantes dans Age par la moyenne\n",
    "df['Age'].fillna(df['Age'].mean(), inplace=True)\n",
    "\n",
    "# Supprimer les lignes avec des valeurs manquantes\n",
    "# df.dropna(inplace=True)"
   ]
  },
  {
   "cell_type": "markdown",
   "id": "54c151a1",
   "metadata": {},
   "source": [
    "## 🔎 Filtrage et sélection\n",
    "Filtrer les données revient à poser des conditions comme en SQL ou STATA :"
   ]
  },
  {
   "cell_type": "code",
   "execution_count": null,
   "id": "c8df20e0",
   "metadata": {},
   "outputs": [],
   "source": [
    "df[df['Sex'] == 'female'].head()  # Femmes uniquement\n",
    "df[(df['Sex'] == 'male') & (df['Age'] < 18)].head()  # Garçons de moins de 18 ans"
   ]
  },
  {
   "cell_type": "markdown",
   "id": "15d920cf",
   "metadata": {},
   "source": [
    "## ✅ À retenir\n",
    "- `pandas` permet de charger, explorer, filtrer et nettoyer des données efficacement\n",
    "- Les `DataFrames` sont des tableaux puissants similaires à ceux de STATA ou R\n",
    "- Prenez l’habitude d’utiliser `.info()` et `.describe()` pour mieux connaître vos jeux de données\n",
    "\n",
    "**Exercice proposé** : Charger un fichier CSV personnel et effectuer les étapes suivantes :\n",
    "1. Afficher les 5 premières lignes\n",
    "2. Afficher les colonnes et leur type\n",
    "3. Nettoyer une colonne contenant des valeurs manquantes\n",
    "4. Filtrer une sous-population"
   ]
  }
 ],
 "metadata": {},
 "nbformat": 4,
 "nbformat_minor": 5
}
