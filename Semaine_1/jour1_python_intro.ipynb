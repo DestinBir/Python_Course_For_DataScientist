{
 "cells": [
  {
   "cell_type": "markdown",
   "metadata": {},
   "source": [
    "# Jour 1 : Découverte de Python pour analystes\n",
    "\n",
    "Bienvenue dans cette première session !\n",
    "Aujourd’hui, vous allez découvrir les bases de Python, avec un accent particulier sur les éléments utiles pour les analystes de données.\n",
    "\n",
    "## Objectifs du jour\n",
    "- Comprendre la syntaxe de base de Python\n",
    "- Manipuler les types de données (int, float, str, bool)\n",
    "- Travailler avec les structures de données : listes, dictionnaires\n",
    "- Découvrir l’environnement Jupyter\n"
   ]
  },
  {
   "cell_type": "markdown",
   "metadata": {},
   "source": [
    "## 1. Variables et types de base"
   ]
  },
  {
   "cell_type": "code",
   "execution_count": null,
   "metadata": {},
   "outputs": [],
   "source": [
    "# Déclaration de variables\n",
    "nom = \"Alice\"\n",
    "age = 30\n",
    "taille = 1.65  # en mètres\n",
    "est_etudiante = True\n",
    "\n",
    "# Affichage\n",
    "print(nom, age, taille, est_etudiante)\n",
    "print(type(nom), type(age), type(taille), type(est_etudiante))"
   ]
  },
  {
   "cell_type": "markdown",
   "metadata": {},
   "source": [
    "## 2. Conditions"
   ]
  },
  {
   "cell_type": "code",
   "execution_count": null,
   "metadata": {},
   "outputs": [],
   "source": [
    "# Utilisation des conditions\n",
    "if age < 18:\n",
    "    print(\"Mineur\")\n",
    "elif age < 65:\n",
    "    print(\"Adulte\")\n",
    "else:\n",
    "    print(\"Senior\")"
   ]
  },
  {
   "cell_type": "markdown",
   "metadata": {},
   "source": [
    "## 3. Listes et tuples"
   ]
  },
  {
   "cell_type": "code",
   "execution_count": null,
   "metadata": {},
   "outputs": [],
   "source": [
    "notes = [14, 16, 12, 18, 13]\n",
    "print(\"Liste des notes :\", notes)\n",
    "print(\"Moyenne :\", sum(notes) / len(notes))\n",
    "\n",
    "villes = (\"Paris\", \"Londres\", \"New York\", \"Tokyo\", \"Berlin\")\n",
    "print(\"Liste des villes :\", villes)"
   ]
  },
  {
   "cell_type": "markdown",
   "metadata": {},
   "source": [
    "## 4. Dictionnaires"
   ]
  },
  {
   "cell_type": "code",
   "execution_count": null,
   "metadata": {},
   "outputs": [],
   "source": [
    "etudiant = {\n",
    "    \"nom\": \"Alice\",\n",
    "    \"âge\": 23,\n",
    "    \"filière\": \"Statistique\",\n",
    "    \"notes\": [14, 15, 13]\n",
    "}\n",
    "\n",
    "print(etudiant[\"nom\"], \"a une moyenne de\", sum(etudiant[\"notes\"]) / len(etudiant[\"notes\"]))"
   ]
  },
  {
   "cell_type": "markdown",
   "metadata": {},
   "source": [
    "## 5. Boucles"
   ]
  },
  {
   "cell_type": "code",
   "execution_count": null,
   "metadata": {},
   "outputs": [],
   "source": [
    "# Parcourir la liste avec for\n",
    "for i in range(len(notes)):\n",
    "    print(\"Note\", i + 1, \":\", notes[i])\n",
    "\n",
    "for note in notes:\n",
    "    print(\"Note :\", note)\n",
    "    "
   ]
  },
  {
   "cell_type": "code",
   "execution_count": null,
   "metadata": {},
   "outputs": [],
   "source": [
    "# Parcourir le tuple avec for\n",
    "for ville in villes:\n",
    "    print(\"Ville :\", ville)"
   ]
  },
  {
   "cell_type": "code",
   "execution_count": null,
   "metadata": {},
   "outputs": [],
   "source": [
    "# Parcourir le dictionnaire avec for\n",
    "for cle, valeur in etudiant.items():\n",
    "    print(cle, \":\", valeur)\n",
    "    \n",
    "# Parcourir le dictionnaire avec for\n",
    "for cle in etudiant:\n",
    "    print(cle, \":\", etudiant[cle])"
   ]
  },
  {
   "cell_type": "code",
   "execution_count": null,
   "metadata": {},
   "outputs": [],
   "source": [
    "# Utilisation de la boucle while\n",
    "i = 0\n",
    "while i < len(notes):\n",
    "    print(\"Note\", i + 1, \":\", notes[i])\n",
    "    i += 1\n",
    "\n",
    "# Utilisation de la boucle while avec une condition\n",
    "i = 0\n",
    "while i < len(notes) and notes[i] >= 10:\n",
    "    print(\"Note\", i + 1, \":\", notes[i])\n",
    "    i += 1"
   ]
  },
  {
   "cell_type": "markdown",
   "metadata": {},
   "source": [
    "## 6. Input"
   ]
  },
  {
   "cell_type": "code",
   "execution_count": null,
   "metadata": {},
   "outputs": [],
   "source": [
    "# L'entrée utilisateur\n",
    "nom_utilisateur = input(\"Entrez votre nom : \")\n",
    "print(\"Bonjour\", nom_utilisateur)\n",
    "# L'entrée utilisateur avec une condition\n",
    "age_utilisateur = int(input(\"Entrez votre âge : \"))\n",
    "if age_utilisateur < 18:\n",
    "    print(\"Vous êtes mineur.\")\n",
    "elif age_utilisateur < 65:\n",
    "    print(\"Vous êtes adulte.\")\n",
    "else:\n",
    "    print(\"Vous êtes senior.\")"
   ]
  },
  {
   "cell_type": "markdown",
   "metadata": {},
   "source": [
    "##"
   ]
  },
  {
   "cell_type": "code",
   "execution_count": null,
   "metadata": {},
   "outputs": [],
   "source": []
  },
  {
   "cell_type": "markdown",
   "metadata": {},
   "source": [
    "## Exercice rapide\n",
    "\n",
    "1. Crée une variable avec ton prénom, ton âge et ta ville.\n",
    "2. Mets-les dans un dictionnaire.\n",
    "3. Ajoute une clé \"compétences\" contenant une liste de 3 compétences.\n",
    "4. Affiche les compétences une à une."
   ]
  }
 ],
 "metadata": {
  "kernelspec": {
   "display_name": "Python 3",
   "language": "python",
   "name": "python3"
  },
  "language_info": {
   "name": "python",
   "version": "3.10"
  }
 },
 "nbformat": 4,
 "nbformat_minor": 2
}
