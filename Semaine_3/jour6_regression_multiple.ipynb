{
 "cells": [
  {
   "cell_type": "markdown",
   "id": "fc4d84b8",
   "metadata": {},
   "source": [
    "# 📊 Jour 6 : Régression Linéaire Multiple avec `statsmodels`\n",
    "\n",
    "La régression multiple est une extension de la régression linéaire simple qui permet d'expliquer une variable dépendante à partir de plusieurs variables explicatives.\n",
    "Dans ce cours, nous allons utiliser plusieurs prédicteurs pour expliquer le `tip` dans le dataset `tips`."
   ]
  },
  {
   "cell_type": "code",
   "execution_count": null,
   "id": "900a65d2",
   "metadata": {},
   "outputs": [],
   "source": [
    "import pandas as pd\n",
    "import statsmodels.api as sm\n",
    "import seaborn as sns\n",
    "import matplotlib.pyplot as plt"
   ]
  },
  {
   "cell_type": "markdown",
   "id": "a9d3b9ba",
   "metadata": {},
   "source": [
    "## 📥 Chargement du dataset"
   ]
  },
  {
   "cell_type": "code",
   "execution_count": null,
   "id": "f9e24f1e",
   "metadata": {},
   "outputs": [],
   "source": [
    "df = sns.load_dataset('tips')\n",
    "df.head()"
   ]
  },
  {
   "cell_type": "markdown",
   "id": "139ccfab",
   "metadata": {},
   "source": [
    "## 🔄 Encodage des variables catégorielles"
   ]
  },
  {
   "cell_type": "code",
   "execution_count": null,
   "id": "821a9df3",
   "metadata": {},
   "outputs": [],
   "source": [
    "# On encode les variables catégorielles avec des variables fictives\n",
    "df_encoded = pd.get_dummies(df, drop_first=True)\n",
    "df_encoded.head()"
   ]
  },
  {
   "cell_type": "markdown",
   "id": "1786e332",
   "metadata": {},
   "source": [
    "## 📈 Implémentation de la régression multiple"
   ]
  },
  {
   "cell_type": "code",
   "execution_count": null,
   "id": "2d8c5546",
   "metadata": {},
   "outputs": [],
   "source": [
    "X = df_encoded.drop(columns='tip')\n",
    "y = df_encoded['tip']\n",
    "X = sm.add_constant(X)\n",
    "model = sm.OLS(y, X).fit()\n",
    "model.summary()"
   ]
  },
  {
   "cell_type": "markdown",
   "id": "0c3e5167",
   "metadata": {},
   "source": [
    "## 📊 Analyse des résultats"
   ]
  },
  {
   "cell_type": "code",
   "execution_count": null,
   "id": "e55d2d69",
   "metadata": {},
   "outputs": [],
   "source": [
    "# On affiche les coefficients significatifs\n",
    "model.params[model.pvalues < 0.05]"
   ]
  },
  {
   "cell_type": "markdown",
   "id": "7a2a7e6a",
   "metadata": {},
   "source": [
    "## 📝 Exercices\n",
    "- Quelle est la variable la plus significative dans la prédiction du pourboire ?\n",
    "- Essayez un modèle uniquement avec `total_bill`, `size`, et `sex_Male`.\n",
    "- Visualisez les résidus du modèle final.\n",
    "- Vérifiez la multicolinéarité avec un `heatmap` des corrélations."
   ]
  }
 ],
 "metadata": {},
 "nbformat": 4,
 "nbformat_minor": 5
}
