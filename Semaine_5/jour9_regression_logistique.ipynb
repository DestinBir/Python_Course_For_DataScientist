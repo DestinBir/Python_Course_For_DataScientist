{
 "cells": [
  {
   "cell_type": "markdown",
   "id": "c7a717c3",
   "metadata": {},
   "source": [
    "# 🧠 Jour 9 : Régression Logistique en Python\n",
    "\n",
    "La régression logistique est utilisée lorsque la variable dépendante est **binaire** (0/1, oui/non, succès/échec).\n",
    "\n",
    "Nous allons :\n",
    "- Implémenter un modèle de régression logistique avec `statsmodels`\n",
    "- Prédire si un client est fumeur ou non à partir de variables numériques\n",
    "- Évaluer les performances du modèle"
   ]
  },
  {
   "cell_type": "code",
   "execution_count": null,
   "id": "122ce519-a4ba-4bc0-be75-9c05d6a2504a",
   "metadata": {},
   "outputs": [],
   "source": [
    "! pip install pandas sklearn"
   ]
  },
  {
   "cell_type": "code",
   "execution_count": 1,
   "id": "8e2eab26",
   "metadata": {},
   "outputs": [
    {
     "ename": "ModuleNotFoundError",
     "evalue": "No module named 'pandas'",
     "output_type": "error",
     "traceback": [
      "\u001b[31m---------------------------------------------------------------------------\u001b[39m",
      "\u001b[31mModuleNotFoundError\u001b[39m                       Traceback (most recent call last)",
      "\u001b[36mCell\u001b[39m\u001b[36m \u001b[39m\u001b[32mIn[1]\u001b[39m\u001b[32m, line 1\u001b[39m\n\u001b[32m----> \u001b[39m\u001b[32m1\u001b[39m \u001b[38;5;28;01mimport\u001b[39;00m\u001b[38;5;250m \u001b[39m\u001b[34;01mpandas\u001b[39;00m\u001b[38;5;250m \u001b[39m\u001b[38;5;28;01mas\u001b[39;00m\u001b[38;5;250m \u001b[39m\u001b[34;01mpd\u001b[39;00m\n\u001b[32m      2\u001b[39m \u001b[38;5;28;01mimport\u001b[39;00m\u001b[38;5;250m \u001b[39m\u001b[34;01mseaborn\u001b[39;00m\u001b[38;5;250m \u001b[39m\u001b[38;5;28;01mas\u001b[39;00m\u001b[38;5;250m \u001b[39m\u001b[34;01msns\u001b[39;00m\n\u001b[32m      3\u001b[39m \u001b[38;5;28;01mimport\u001b[39;00m\u001b[38;5;250m \u001b[39m\u001b[34;01mstatsmodels\u001b[39;00m\u001b[34;01m.\u001b[39;00m\u001b[34;01mapi\u001b[39;00m\u001b[38;5;250m \u001b[39m\u001b[38;5;28;01mas\u001b[39;00m\u001b[38;5;250m \u001b[39m\u001b[34;01msm\u001b[39;00m\n",
      "\u001b[31mModuleNotFoundError\u001b[39m: No module named 'pandas'"
     ]
    }
   ],
   "source": [
    "import pandas as pd\n",
    "import seaborn as sns\n",
    "import statsmodels.api as sm\n",
    "import matplotlib.pyplot as plt"
   ]
  },
  {
   "cell_type": "markdown",
   "id": "0134579b",
   "metadata": {},
   "source": [
    "## 📥 Chargement du dataset"
   ]
  },
  {
   "cell_type": "code",
   "execution_count": null,
   "id": "a896fdd8",
   "metadata": {},
   "outputs": [],
   "source": [
    "df = sns.load_dataset('tips')\n",
    "df['smoker_binary'] = df['smoker'].map({'Yes': 1, 'No': 0})\n",
    "df.head()"
   ]
  },
  {
   "cell_type": "markdown",
   "id": "92b83f0a",
   "metadata": {},
   "source": [
    "## 🎯 Sélection des variables explicatives"
   ]
  },
  {
   "cell_type": "code",
   "execution_count": null,
   "id": "eb0f7e21",
   "metadata": {},
   "outputs": [],
   "source": [
    "X = df[['total_bill', 'tip', 'size']]\n",
    "y = df['smoker_binary']\n",
    "X = sm.add_constant(X)"
   ]
  },
  {
   "cell_type": "markdown",
   "id": "3db2c52d",
   "metadata": {},
   "source": [
    "## 📊 Modèle de régression logistique"
   ]
  },
  {
   "cell_type": "code",
   "execution_count": null,
   "id": "a64db7a3",
   "metadata": {},
   "outputs": [],
   "source": [
    "model = sm.Logit(y, X).fit()\n",
    "model.summary()"
   ]
  },
  {
   "cell_type": "markdown",
   "id": "eb4fe567",
   "metadata": {},
   "source": [
    "## 🔮 Prédictions et probabilités"
   ]
  },
  {
   "cell_type": "code",
   "execution_count": null,
   "id": "43e34692",
   "metadata": {},
   "outputs": [],
   "source": [
    "df['predicted_prob'] = model.predict(X)\n",
    "df['predicted_class'] = (df['predicted_prob'] > 0.5).astype(int)\n",
    "df[['smoker_binary', 'predicted_class']].head()"
   ]
  },
  {
   "cell_type": "markdown",
   "id": "864e9db3",
   "metadata": {},
   "source": [
    "## 🧾 Matrice de confusion et précision"
   ]
  },
  {
   "cell_type": "code",
   "execution_count": 2,
   "id": "22598063",
   "metadata": {},
   "outputs": [
    {
     "ename": "ModuleNotFoundError",
     "evalue": "No module named 'sklearn'",
     "output_type": "error",
     "traceback": [
      "\u001b[31m---------------------------------------------------------------------------\u001b[39m",
      "\u001b[31mModuleNotFoundError\u001b[39m                       Traceback (most recent call last)",
      "\u001b[36mCell\u001b[39m\u001b[36m \u001b[39m\u001b[32mIn[2]\u001b[39m\u001b[32m, line 1\u001b[39m\n\u001b[32m----> \u001b[39m\u001b[32m1\u001b[39m \u001b[38;5;28;01mfrom\u001b[39;00m\u001b[38;5;250m \u001b[39m\u001b[34;01msklearn\u001b[39;00m\u001b[34;01m.\u001b[39;00m\u001b[34;01mmetrics\u001b[39;00m\u001b[38;5;250m \u001b[39m\u001b[38;5;28;01mimport\u001b[39;00m confusion_matrix, accuracy_score\n\u001b[32m      2\u001b[39m cm = confusion_matrix(df[\u001b[33m'\u001b[39m\u001b[33msmoker_binary\u001b[39m\u001b[33m'\u001b[39m], df[\u001b[33m'\u001b[39m\u001b[33mpredicted_class\u001b[39m\u001b[33m'\u001b[39m])\n\u001b[32m      3\u001b[39m acc = accuracy_score(df[\u001b[33m'\u001b[39m\u001b[33msmoker_binary\u001b[39m\u001b[33m'\u001b[39m], df[\u001b[33m'\u001b[39m\u001b[33mpredicted_class\u001b[39m\u001b[33m'\u001b[39m])\n",
      "\u001b[31mModuleNotFoundError\u001b[39m: No module named 'sklearn'"
     ]
    }
   ],
   "source": [
    "from sklearn.metrics import confusion_matrix, accuracy_score\n",
    "cm = confusion_matrix(df['smoker_binary'], df['predicted_class'])\n",
    "acc = accuracy_score(df['smoker_binary'], df['predicted_class'])\n",
    "print('Matrice de confusion :')\n",
    "print(cm)\n",
    "print(f'Précision : {acc:.2f}')"
   ]
  },
  {
   "cell_type": "markdown",
   "id": "00cd716d",
   "metadata": {},
   "source": [
    "## 📝 Exercices\n",
    "- Réalisez une régression logistique pour prédire le sexe (`sex`) à partir de `total_bill`, `tip`, et `size`.\n",
    "- Testez différents seuils de classification (0.4, 0.6).\n",
    "- Visualisez les distributions des probabilités prédites selon les vraies classes."
   ]
  }
 ],
 "metadata": {
  "kernelspec": {
   "display_name": "Python 3 (ipykernel)",
   "language": "python",
   "name": "python3"
  },
  "language_info": {
   "codemirror_mode": {
    "name": "ipython",
    "version": 3
   },
   "file_extension": ".py",
   "mimetype": "text/x-python",
   "name": "python",
   "nbconvert_exporter": "python",
   "pygments_lexer": "ipython3",
   "version": "3.13.4"
  }
 },
 "nbformat": 4,
 "nbformat_minor": 5
}
