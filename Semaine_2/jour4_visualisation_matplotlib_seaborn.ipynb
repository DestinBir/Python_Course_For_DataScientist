{
 "cells": [
  {
   "cell_type": "markdown",
   "id": "bfcad9e2",
   "metadata": {},
   "source": [
    "# 🎨 Visualisation avec Matplotlib et Seaborn\n",
    "\n",
    "Jour 4 — Semaine 2\n",
    "\n",
    "Aujourd'hui, nous allons apprendre à visualiser des données à l'aide des bibliothèques `matplotlib` et `seaborn`."
   ]
  },
  {
   "cell_type": "code",
   "execution_count": null,
   "id": "214cfb49",
   "metadata": {},
   "outputs": [],
   "source": [
    "import pandas as pd\n",
    "import matplotlib.pyplot as plt\n",
    "import seaborn as sns\n",
    "sns.set(style='whitegrid')\n",
    "%matplotlib inline"
   ]
  },
  {
   "cell_type": "code",
   "execution_count": null,
   "id": "c0c3cb3c",
   "metadata": {},
   "outputs": [],
   "source": [
    "# Dataset exemple : Titanic\n",
    "url = 'https://raw.githubusercontent.com/datasciencedojo/datasets/master/titanic.csv'\n",
    "df = pd.read_csv(url)\n",
    "df.head()"
   ]
  },
  {
   "cell_type": "markdown",
   "id": "7bbb814f",
   "metadata": {},
   "source": [
    "## 🧾 Aperçu complet de la DataFrame"
   ]
  },
  {
   "cell_type": "code",
   "execution_count": null,
   "id": "0d40852d",
   "metadata": {},
   "outputs": [],
   "source": [
    "pd.set_option('display.max_rows', None)\n",
    "display(df)"
   ]
  },
  {
   "cell_type": "code",
   "execution_count": null,
   "id": "cb375a09",
   "metadata": {},
   "outputs": [],
   "source": [
    "df.describe(include='all')"
   ]
  },
  {
   "cell_type": "markdown",
   "id": "bc7f3cc8",
   "metadata": {},
   "source": [
    "## 📊 Histogramme d'une variable numérique"
   ]
  },
  {
   "cell_type": "code",
   "execution_count": null,
   "id": "10304d7b",
   "metadata": {},
   "outputs": [],
   "source": [
    "plt.figure(figsize=(8, 5))\n",
    "sns.histplot(df['Age'].dropna(), kde=True, bins=30)\n",
    "plt.title('Distribution des âges')\n",
    "plt.xlabel('Âge')\n",
    "plt.ylabel('Fréquence')\n",
    "plt.show()"
   ]
  },
  {
   "cell_type": "markdown",
   "id": "447ad116",
   "metadata": {},
   "source": [
    "## 📦 Boxplot par sexe"
   ]
  },
  {
   "cell_type": "code",
   "execution_count": null,
   "id": "e022f348",
   "metadata": {},
   "outputs": [],
   "source": [
    "plt.figure(figsize=(8, 5))\n",
    "sns.boxplot(x='Sex', y='Age', data=df)\n",
    "plt.title(\"Répartition de l'âge par sexe\")\n",
    "plt.show()"
   ]
  },
  {
   "cell_type": "markdown",
   "id": "d168ca3a",
   "metadata": {},
   "source": [
    "## ☁️ Nuage de points entre Age et Fare"
   ]
  },
  {
   "cell_type": "code",
   "execution_count": null,
   "id": "a6f3a1f9",
   "metadata": {},
   "outputs": [],
   "source": [
    "plt.figure(figsize=(8, 5))\n",
    "sns.scatterplot(x='Age', y='Fare', hue='Sex', data=df)\n",
    "plt.title('Lien entre âge et tarif payé')\n",
    "plt.show()"
   ]
  },
  {
   "cell_type": "markdown",
   "id": "dca9e5ac",
   "metadata": {},
   "source": [
    "## 🔥 Heatmap de corrélation"
   ]
  },
  {
   "cell_type": "code",
   "execution_count": null,
   "id": "177b0139",
   "metadata": {},
   "outputs": [],
   "source": [
    "plt.figure(figsize=(10, 6))\n",
    "corr = df.corr(numeric_only=True)\n",
    "sns.heatmap(corr, annot=True, cmap='coolwarm')\n",
    "plt.title('Matrice de corrélation')\n",
    "plt.show()"
   ]
  },
  {
   "cell_type": "markdown",
   "id": "4c2327fd",
   "metadata": {},
   "source": [
    "## 🧠 Exercices\n",
    "\n",
    "1. Affichez un histogramme pour la variable `Fare`.\n",
    "2. Créez un boxplot de `Fare` par `Pclass`.\n",
    "3. Faites une heatmap uniquement sur `Age`, `Fare`, et `Pclass`."
   ]
  }
 ],
 "metadata": {},
 "nbformat": 4,
 "nbformat_minor": 5
}
