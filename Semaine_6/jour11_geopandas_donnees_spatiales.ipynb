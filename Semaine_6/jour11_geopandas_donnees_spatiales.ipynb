{
 "cells": [
  {
   "cell_type": "markdown",
   "id": "0ec9e5e1",
   "metadata": {},
   "source": [
    "# 🌍 Jour 11 : Introduction aux Données Spatiales avec `geopandas`\n",
    "\n",
    "Dans cette séance, nous découvrons comment manipuler et visualiser des données géographiques (cartographiques) en Python avec la bibliothèque `geopandas`.\n",
    "\n",
    "📌 Objectifs :\n",
    "- Comprendre les objets géométriques (`Point`, `Polygon`, `GeoSeries`, etc.)\n",
    "- Charger des shapefiles ou GeoJSON\n",
    "- Visualiser des cartes\n",
    "- Joindre des données statistiques à des entités géographiques"
   ]
  },
  {
   "cell_type": "code",
   "execution_count": 1,
   "id": "2fab882b",
   "metadata": {},
   "outputs": [],
   "source": [
    "import geopandas as gpd\n",
    "import matplotlib.pyplot as plt\n",
    "import pandas as pd"
   ]
  },
  {
   "cell_type": "markdown",
   "id": "1865276c",
   "metadata": {},
   "source": [
    "## 🗺️ Chargement d’un jeu de données spatial intégré"
   ]
  },
  {
   "cell_type": "code",
   "execution_count": null,
   "id": "bc392ef6",
   "metadata": {},
   "outputs": [
    {
     "ename": "AttributeError",
     "evalue": "The geopandas.dataset has been deprecated and was removed in GeoPandas 1.0. You can get the original 'naturalearth_lowres' data from https://www.naturalearthdata.com/downloads/110m-cultural-vectors/.",
     "output_type": "error",
     "traceback": [
      "\u001b[31m---------------------------------------------------------------------------\u001b[39m",
      "\u001b[31mAttributeError\u001b[39m                            Traceback (most recent call last)",
      "\u001b[36mCell\u001b[39m\u001b[36m \u001b[39m\u001b[32mIn[2]\u001b[39m\u001b[32m, line 1\u001b[39m\n\u001b[32m----> \u001b[39m\u001b[32m1\u001b[39m world = gpd.read_file(\u001b[43mgpd\u001b[49m\u001b[43m.\u001b[49m\u001b[43mdatasets\u001b[49m\u001b[43m.\u001b[49m\u001b[43mget_path\u001b[49m\u001b[43m(\u001b[49m\u001b[33;43m'\u001b[39;49m\u001b[33;43mnaturalearth_lowres\u001b[39;49m\u001b[33;43m'\u001b[39;49m\u001b[43m)\u001b[49m)\n\u001b[32m      2\u001b[39m world.head()\n",
      "\u001b[36mFile \u001b[39m\u001b[32mc:\\Users\\Destin Biringanine\\AppData\\Local\\Programs\\Python\\Python312\\Lib\\site-packages\\geopandas\\datasets\\__init__.py:18\u001b[39m, in \u001b[36mget_path\u001b[39m\u001b[34m(dataset)\u001b[39m\n\u001b[32m     12\u001b[39m error_msg = (\n\u001b[32m     13\u001b[39m     \u001b[33m\"\u001b[39m\u001b[33mThe geopandas.dataset has been deprecated and was removed in GeoPandas \u001b[39m\u001b[33m\"\u001b[39m\n\u001b[32m     14\u001b[39m     \u001b[33mf\u001b[39m\u001b[33m\"\u001b[39m\u001b[33m1.0. You can get the original \u001b[39m\u001b[33m'\u001b[39m\u001b[38;5;132;01m{\u001b[39;00mdataset\u001b[38;5;132;01m}\u001b[39;00m\u001b[33m'\u001b[39m\u001b[33m data from \u001b[39m\u001b[33m\"\u001b[39m\n\u001b[32m     15\u001b[39m     \u001b[33mf\u001b[39m\u001b[33m\"\u001b[39m\u001b[38;5;132;01m{\u001b[39;00mne_message\u001b[38;5;250m \u001b[39m\u001b[38;5;28;01mif\u001b[39;00m\u001b[38;5;250m \u001b[39m\u001b[33m'\u001b[39m\u001b[33mnatural\u001b[39m\u001b[33m'\u001b[39m\u001b[38;5;250m \u001b[39m\u001b[38;5;129;01min\u001b[39;00m\u001b[38;5;250m \u001b[39mdataset\u001b[38;5;250m \u001b[39m\u001b[38;5;28;01melse\u001b[39;00m\u001b[38;5;250m \u001b[39mnybb_message\u001b[38;5;132;01m}\u001b[39;00m\u001b[33m\"\u001b[39m\n\u001b[32m     16\u001b[39m )\n\u001b[32m     17\u001b[39m \u001b[38;5;28;01mif\u001b[39;00m dataset \u001b[38;5;129;01min\u001b[39;00m _prev_available:\n\u001b[32m---> \u001b[39m\u001b[32m18\u001b[39m     \u001b[38;5;28;01mraise\u001b[39;00m \u001b[38;5;167;01mAttributeError\u001b[39;00m(error_msg)\n\u001b[32m     19\u001b[39m \u001b[38;5;28;01melse\u001b[39;00m:\n\u001b[32m     20\u001b[39m     error_msg = (\n\u001b[32m     21\u001b[39m         \u001b[33m\"\u001b[39m\u001b[33mThe geopandas.dataset has been deprecated and \u001b[39m\u001b[33m\"\u001b[39m\n\u001b[32m     22\u001b[39m         \u001b[33m\"\u001b[39m\u001b[33mwas removed in GeoPandas 1.0. New sample datasets are now available \u001b[39m\u001b[33m\"\u001b[39m\n\u001b[32m     23\u001b[39m         \u001b[33m\"\u001b[39m\u001b[33min the geodatasets package (https://geodatasets.readthedocs.io/en/latest/)\u001b[39m\u001b[33m\"\u001b[39m\n\u001b[32m     24\u001b[39m     )\n",
      "\u001b[31mAttributeError\u001b[39m: The geopandas.dataset has been deprecated and was removed in GeoPandas 1.0. You can get the original 'naturalearth_lowres' data from https://www.naturalearthdata.com/downloads/110m-cultural-vectors/."
     ]
    }
   ],
   "source": [
    "# If the built-in dataset is not available, download and use the shapefile manually:\n",
    "# Download from: https://www.naturalearthdata.com/downloads/110m-cultural-vectors/\n",
    "# Unzip and provide the path to the .shp file, for example:\n",
    "# world = gpd.read_file(\"path/to/ne_110m_admin_0_countries.shp\")\n",
    "\n",
    "# If your GeoPandas installation supports it, this should work:\n",
    "world = gpd.read_file(gpd.datasets.get_path('naturalearth_lowres'))\n",
    "world.head()"
   ]
  },
  {
   "cell_type": "markdown",
   "id": "c6a5c3ef",
   "metadata": {},
   "source": [
    "## 🗾 Affichage simple de la carte du monde"
   ]
  },
  {
   "cell_type": "code",
   "execution_count": null,
   "id": "67046a73",
   "metadata": {},
   "outputs": [],
   "source": [
    "world.plot(figsize=(12, 6), edgecolor='black')\n",
    "plt.title('Carte du monde')\n",
    "plt.show()"
   ]
  },
  {
   "cell_type": "markdown",
   "id": "ce705b51",
   "metadata": {},
   "source": [
    "## 🔍 Focus sur l’Afrique"
   ]
  },
  {
   "cell_type": "code",
   "execution_count": null,
   "id": "3394064b",
   "metadata": {},
   "outputs": [],
   "source": [
    "africa = world[world['continent'] == 'Africa']\n",
    "africa.plot(figsize=(10, 6), color='lightgreen', edgecolor='black')\n",
    "plt.title('Pays d’Afrique')\n",
    "plt.show()"
   ]
  },
  {
   "cell_type": "markdown",
   "id": "33fbacb5",
   "metadata": {},
   "source": [
    "## 🔗 Jointure avec des données statistiques"
   ]
  },
  {
   "cell_type": "code",
   "execution_count": null,
   "id": "4221f61d",
   "metadata": {},
   "outputs": [],
   "source": [
    "# Exemple : ajout d’une variable fictive 'infection_rate'\n",
    "import numpy as np\n",
    "africa['infection_rate'] = np.random.uniform(0, 100, size=len(africa))\n",
    "africa.plot(column='infection_rate', cmap='OrRd', legend=True, figsize=(10, 6))\n",
    "plt.title('Taux fictif d’infection en Afrique')\n",
    "plt.show()"
   ]
  },
  {
   "cell_type": "markdown",
   "id": "a9b0f544",
   "metadata": {},
   "source": [
    "## 📝 Exercices\n",
    "- Trouvez les 5 pays africains avec les plus hauts taux d’infection.\n",
    "- Téléchargez un shapefile de votre pays (ex : provinces) et visualisez-le.\n",
    "- Ajoutez une donnée statistique (ex : population, PIB) et cartographiez-la."
   ]
  }
 ],
 "metadata": {
  "kernelspec": {
   "display_name": "Python 3",
   "language": "python",
   "name": "python3"
  },
  "language_info": {
   "codemirror_mode": {
    "name": "ipython",
    "version": 3
   },
   "file_extension": ".py",
   "mimetype": "text/x-python",
   "name": "python",
   "nbconvert_exporter": "python",
   "pygments_lexer": "ipython3",
   "version": "3.12.10"
  }
 },
 "nbformat": 4,
 "nbformat_minor": 5
}
