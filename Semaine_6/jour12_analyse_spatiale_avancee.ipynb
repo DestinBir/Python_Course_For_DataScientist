{
 "cells": [
  {
   "cell_type": "markdown",
   "id": "952c9155",
   "metadata": {},
   "source": [
    "# 🗺️ Jour 12 : Analyse Spatiale Avancée avec `geopandas`\n",
    "\n",
    "Dans ce deuxième volet des données géographiques, nous allons :\n",
    "- Calculer des **distances** et des **centroïdes**\n",
    "- Effectuer des **jointures spatiales** (spatial joins)\n",
    "- Appliquer des **opérations géométriques** (intersection, union)\n",
    "\n",
    "Ces manipulations permettent d'enrichir nos données géographiques pour la prise de décision ou la visualisation avancée."
   ]
  },
  {
   "cell_type": "code",
   "execution_count": null,
   "id": "e01d0f68",
   "metadata": {},
   "outputs": [],
   "source": [
    "import geopandas as gpd\n",
    "import pandas as pd\n",
    "import matplotlib.pyplot as plt\n",
    "from shapely.geometry import Point"
   ]
  },
  {
   "cell_type": "markdown",
   "id": "6370a31f",
   "metadata": {},
   "source": [
    "## 🌍 Chargement de la carte du monde"
   ]
  },
  {
   "cell_type": "code",
   "execution_count": null,
   "id": "8da078a1",
   "metadata": {},
   "outputs": [],
   "source": [
    "world = gpd.read_file(gpd.datasets.get_path('naturalearth_lowres'))"
   ]
  },
  {
   "cell_type": "markdown",
   "id": "ac664e57",
   "metadata": {},
   "source": [
    "## 🏥 Création de points fictifs (ex: hôpitaux)"
   ]
  },
  {
   "cell_type": "code",
   "execution_count": null,
   "id": "480144dc",
   "metadata": {},
   "outputs": [],
   "source": [
    "hospital_coords = [(30, -1), (35, 0), (25, -2)]  # long, lat (en Afrique de l'Est)\n",
    "hospitals = gpd.GeoDataFrame(geometry=[Point(xy) for xy in hospital_coords],\n",
    "                             crs='EPSG:4326')\n",
    "hospitals['name'] = ['Hopital A', 'Hopital B', 'Hopital C']\n",
    "hospitals"
   ]
  },
  {
   "cell_type": "markdown",
   "id": "f144f295",
   "metadata": {},
   "source": [
    "## 🗺️ Visualisation des hôpitaux sur la carte"
   ]
  },
  {
   "cell_type": "code",
   "execution_count": null,
   "id": "2425a92d",
   "metadata": {},
   "outputs": [],
   "source": [
    "base = world.plot(color='white', edgecolor='gray', figsize=(10, 6))\n",
    "hospitals.plot(ax=base, color='red', markersize=50)\n",
    "plt.title('Hôpitaux fictifs en Afrique')\n",
    "plt.show()"
   ]
  },
  {
   "cell_type": "markdown",
   "id": "38ca5293",
   "metadata": {},
   "source": [
    "## 📍 Calcul du centroïde des pays"
   ]
  },
  {
   "cell_type": "code",
   "execution_count": null,
   "id": "8d83fd5f",
   "metadata": {},
   "outputs": [],
   "source": [
    "africa = world[world['continent'] == 'Africa']\n",
    "africa['centroid'] = africa.geometry.centroid\n",
    "africa[['name', 'centroid']].head()"
   ]
  },
  {
   "cell_type": "markdown",
   "id": "7d39f3b1",
   "metadata": {},
   "source": [
    "## 📏 Calcul des distances entre un hôpital et les pays"
   ]
  },
  {
   "cell_type": "code",
   "execution_count": null,
   "id": "3dad8e00",
   "metadata": {},
   "outputs": [],
   "source": [
    "from shapely.ops import nearest_points\n",
    "ref_point = hospitals.geometry[0]  # Hopital A\n",
    "africa['distance_km'] = africa.geometry.distance(ref_point) * 111  # approx. conversion deg -> km\n",
    "africa[['name', 'distance_km']].sort_values('distance_km').head()"
   ]
  },
  {
   "cell_type": "markdown",
   "id": "f2f8505e",
   "metadata": {},
   "source": [
    "## 🔗 Jointure spatiale : associer hôpitaux aux pays"
   ]
  },
  {
   "cell_type": "code",
   "execution_count": null,
   "id": "f9a2ea85",
   "metadata": {},
   "outputs": [],
   "source": [
    "joined = gpd.sjoin(hospitals, africa, how='left', predicate='within')\n",
    "joined[['name', 'name_right']]"
   ]
  },
  {
   "cell_type": "markdown",
   "id": "d919f181",
   "metadata": {},
   "source": [
    "## 📝 Exercices\n",
    "- Ajoutez d'autres points (écoles, centres de santé) et calculez leurs distances à chaque pays.\n",
    "- Trouvez pour chaque point le pays le plus proche.\n",
    "- Regroupez les points par pays et comptez-les (`groupby`)."
   ]
  }
 ],
 "metadata": {},
 "nbformat": 4,
 "nbformat_minor": 5
}
