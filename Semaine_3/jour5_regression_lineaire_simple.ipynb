{
 "cells": [
  {
   "cell_type": "markdown",
   "id": "5dc91782",
   "metadata": {},
   "source": [
    "# 📉 Jour 5 : Régression Linéaire Simple avec `statsmodels`\n",
    "\n",
    "La régression linéaire permet d’étudier la relation entre une variable dépendante (Y) et une variable indépendante (X).\n",
    "Nous allons implémenter un modèle simple avec `statsmodels` et interpréter les résultats."
   ]
  },
  {
   "cell_type": "code",
   "execution_count": null,
   "id": "f6666791",
   "metadata": {},
   "outputs": [],
   "source": [
    "# 📦 Installation (si nécessaire)\n",
    "# !pip install statsmodels"
   ]
  },
  {
   "cell_type": "code",
   "execution_count": null,
   "id": "8dcbca94",
   "metadata": {},
   "outputs": [],
   "source": [
    "import pandas as pd\n",
    "import statsmodels.api as sm\n",
    "import seaborn as sns\n",
    "import matplotlib.pyplot as plt"
   ]
  },
  {
   "cell_type": "markdown",
   "id": "e312cc84",
   "metadata": {},
   "source": [
    "## 📥 Chargement du dataset"
   ]
  },
  {
   "cell_type": "code",
   "execution_count": null,
   "id": "35343471",
   "metadata": {},
   "outputs": [],
   "source": [
    "df = sns.load_dataset('tips')\n",
    "df.head()"
   ]
  },
  {
   "cell_type": "markdown",
   "id": "815efbf1",
   "metadata": {},
   "source": [
    "## 🔍 Visualisation de la relation entre `total_bill` et `tip`"
   ]
  },
  {
   "cell_type": "code",
   "execution_count": null,
   "id": "787d71b5",
   "metadata": {},
   "outputs": [],
   "source": [
    "sns.scatterplot(x='total_bill', y='tip', data=df)\n",
    "plt.title('Pourboire vs Total Bill')\n",
    "plt.show()"
   ]
  },
  {
   "cell_type": "markdown",
   "id": "c6ea25ef",
   "metadata": {},
   "source": [
    "## 📊 Implémentation du modèle"
   ]
  },
  {
   "cell_type": "code",
   "execution_count": null,
   "id": "492a551a",
   "metadata": {},
   "outputs": [],
   "source": [
    "# Variable indépendante (X) et dépendante (y)\n",
    "X = df['total_bill']\n",
    "y = df['tip']\n",
    "\n",
    "# Ajouter une constante pour l'interception\n",
    "X = sm.add_constant(X)\n",
    "\n",
    "# Ajuster le modèle\n",
    "model = sm.OLS(y, X).fit()\n",
    "model.summary()"
   ]
  },
  {
   "cell_type": "markdown",
   "id": "40f67316",
   "metadata": {},
   "source": [
    "## 📈 Analyse des résidus"
   ]
  },
  {
   "cell_type": "code",
   "execution_count": null,
   "id": "52ee1989",
   "metadata": {},
   "outputs": [],
   "source": [
    "df['predicted'] = model.predict(X)\n",
    "df['residuals'] = df['tip'] - df['predicted']\n",
    "sns.histplot(df['residuals'], kde=True)\n",
    "plt.title('Distribution des résidus')\n",
    "plt.show()"
   ]
  },
  {
   "cell_type": "markdown",
   "id": "a75c2553",
   "metadata": {},
   "source": [
    "## 📐 Courbe de régression"
   ]
  },
  {
   "cell_type": "code",
   "execution_count": null,
   "id": "bfdb9e0c",
   "metadata": {},
   "outputs": [],
   "source": [
    "sns.scatterplot(x='total_bill', y='tip', data=df, label='Données réelles')\n",
    "sns.lineplot(x='total_bill', y='predicted', data=df, color='red', label='Régression')\n",
    "plt.title('Régression linéaire simple')\n",
    "plt.legend()\n",
    "plt.show()"
   ]
  },
  {
   "cell_type": "markdown",
   "id": "5bb31335",
   "metadata": {},
   "source": [
    "## 📝 Exercices\n",
    "- Refaites la même régression avec `size` comme variable explicative.\n",
    "- Interprétez les coefficients du modèle (`coef`, `p-value`, `R²`).\n",
    "- Que signifient les résidus ? Sont-ils normalement distribués ?"
   ]
  }
 ],
 "metadata": {},
 "nbformat": 4,
 "nbformat_minor": 5
}
