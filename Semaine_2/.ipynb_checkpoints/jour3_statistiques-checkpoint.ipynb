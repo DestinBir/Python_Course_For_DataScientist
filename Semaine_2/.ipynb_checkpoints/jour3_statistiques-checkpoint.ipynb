{
 "cells": [
  {
   "cell_type": "markdown",
   "metadata": {},
   "source": [
    "# Statistiques de base avec pandas\n",
    "\n",
    "Dans ce notebook, nous allons apprendre à calculer les principales statistiques descriptives (moyenne, médiane, écart-type, variance) et à utiliser les regroupements (`groupby`) avec pandas.\n",
    "\n",
    "## Objectifs\n",
    "- Calculer moyenne, médiane, écart-type, variance\n",
    "- Utiliser `groupby` pour des statistiques par groupe\n",
    "- Interpréter les résultats sur des jeux de données réels"
   ]
  },
  {
   "cell_type": "markdown",
   "metadata": {},
   "source": [
    "## 1. Préparation de l'environnement"
   ]
  },
  {
   "cell_type": "code",
   "execution_count": null,
   "metadata": {},
   "outputs": [],
   "source": [
    "import pandas as pd\n",
    "import numpy as np"
   ]
  },
  {
   "cell_type": "markdown",
   "metadata": {},
   "source": [
    "## 2. Chargement d'un jeu de données exemple\n",
    "\n",
    "Pour cette séance, nous allons utiliser le jeu de données Titanic (ou un jeu de données similaire)."
   ]
  },
  {
   "cell_type": "code",
   "execution_count": null,
   "metadata": {},
   "outputs": [],
   "source": [
    "# Exemple avec un lien en ligne (dataset des passagers du Titanic)\n",
    "url = 'https://raw.githubusercontent.com/datasciencedojo/datasets/master/titanic.csv'\n",
    "df = pd.read_csv(url)\n",
    "df.head()"
   ]
  },
  {
   "cell_type": "markdown",
   "metadata": {},
   "source": [
    "## 3. Statistiques descriptives de base"
   ]
  },
  {
   "cell_type": "code",
   "execution_count": null,
   "metadata": {},
   "outputs": [],
   "source": [
    "# Moyenne de l'âge\n",
    "df['age'].mean()"
   ]
  },
  {
   "cell_type": "code",
   "execution_count": null,
   "metadata": {},
   "outputs": [],
   "source": [
    "# Médiane de l'âge\n",
    "df['age'].median()"
   ]
  },
  {
   "cell_type": "code",
   "execution_count": null,
   "metadata": {},
   "outputs": [],
   "source": [
    "# Écart-type de l'âge\n",
    "df['age'].std()"
   ]
  },
  {
   "cell_type": "code",
   "execution_count": null,
   "metadata": {},
   "outputs": [],
   "source": [
    "# Variance de l'âge\n",
    "df['age'].var()"
   ]
  },
  {
   "cell_type": "markdown",
   "metadata": {},
   "source": [
    "## 4. Statistiques descriptives sur plusieurs colonnes"
   ]
  },
  {
   "cell_type": "code",
   "execution_count": null,
   "metadata": {},
   "outputs": [],
   "source": [
    "# Statistiques descriptives pour plusieurs colonnes numériques\n",
    "df[['age', 'fare']].describe()"
   ]
  },
  {
   "cell_type": "markdown",
   "metadata": {},
   "source": [
    "## 5. Regroupements (`groupby`)\n",
    "\n",
    "Calculons la moyenne de l'âge par classe de billet (`pclass`)."
   ]
  },
  {
   "cell_type": "code",
   "execution_count": null,
   "metadata": {},
   "outputs": [],
   "source": [
    "df.groupby('pclass')['age'].mean()"
   ]
  },
  {
   "cell_type": "code",
   "execution_count": null,
   "metadata": {},
   "outputs": [],
   "source": [
    "# Médiane du prix du billet par classe\n",
    "df.groupby('pclass')['fare'].median()"
   ]
  },
  {
   "cell_type": "code",
   "execution_count": null,
   "metadata": {},
   "outputs": [],
   "source": [
    "# Moyenne de l'âge par sexe\n",
    "df.groupby('sex')['age'].mean()"
   ]
  },
  {
   "cell_type": "markdown",
   "metadata": {},
   "source": [
    "## 6. Statistiques multiples par groupe\n",
    "\n",
    "On peut appliquer plusieurs fonctions à la fois avec `.agg()`."
   ]
  },
  {
   "cell_type": "code",
   "execution_count": null,
   "metadata": {},
   "outputs": [],
   "source": [
    "df.groupby('pclass')['age'].agg(['mean', 'median', 'std', 'count'])"
   ]
  },
  {
   "cell_type": "markdown",
   "metadata": {},
   "source": [
    "## 7. Exercice pratique\n",
    "\n",
    "**Question :**\n",
    "- Calcule la moyenne et la médiane de l'âge pour chaque combinaison de `sex` et `pclass`.\n",
    "- Quelle catégorie a l'âge moyen le plus élevé ?"
   ]
  },
  {
   "cell_type": "code",
   "execution_count": null,
   "metadata": {},
   "outputs": [],
   "source": [
    "# À compléter par l'apprenant\n",
    "df.groupby(['sex', 'pclass'])['age'].agg(['mean', 'median'])"
   ]
  },
  {
   "cell_type": "markdown",
   "metadata": {},
   "source": [
    "## 8. Pour aller plus loin\n",
    "\n",
    "- Documentation pandas : https://pandas.pydata.org/pandas-docs/stable/user_guide/groupby.html\n",
    "- Essayez avec vos propres jeux de données !"
   ]
  }
 ],
 "metadata": {
  "kernelspec": {
   "display_name": "Python 3",
   "language": "python",
   "name": "python3"
  },
  "language_info": {
   "name": "python",
   "version": ""
  }
 },
 "nbformat": 4,
 "nbformat_minor": 2
}
