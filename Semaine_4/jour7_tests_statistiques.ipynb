{
 "cells": [
  {
   "cell_type": "markdown",
   "id": "d354d791",
   "metadata": {},
   "source": [
    "# 🧪 Jour 7 : Tests Statistiques en Python\n",
    "\n",
    "Dans cette séance, nous allons apprendre à réaliser les tests statistiques classiques :\n",
    "- Test de Student (t-test)\n",
    "- ANOVA\n",
    "- Test du chi²\n",
    "- Test de normalité\n",
    "Nous utiliserons `scipy.stats` et `statsmodels`."
   ]
  },
  {
   "cell_type": "code",
   "execution_count": null,
   "id": "74e681fb",
   "metadata": {},
   "outputs": [],
   "source": [
    "import pandas as pd\n",
    "import seaborn as sns\n",
    "import matplotlib.pyplot as plt\n",
    "from scipy import stats\n",
    "import statsmodels.api as sm"
   ]
  },
  {
   "cell_type": "markdown",
   "id": "5a0a3397",
   "metadata": {},
   "source": [
    "## 📥 Chargement des données"
   ]
  },
  {
   "cell_type": "code",
   "execution_count": null,
   "id": "72ba919c",
   "metadata": {},
   "outputs": [],
   "source": [
    "df = sns.load_dataset('tips')\n",
    "df.head()"
   ]
  },
  {
   "cell_type": "markdown",
   "id": "9d504f89",
   "metadata": {},
   "source": [
    "## ✅ T-test (Student)\n",
    "Comparer les moyennes de deux groupes."
   ]
  },
  {
   "cell_type": "code",
   "execution_count": null,
   "id": "d5f0e142",
   "metadata": {},
   "outputs": [],
   "source": [
    "male = df[df['sex'] == 'Male']['tip']\n",
    "female = df[df['sex'] == 'Female']['tip']\n",
    "t_stat, p_val = stats.ttest_ind(male, female)\n",
    "print(f'T-statistic: {t_stat:.3f}, p-value: {p_val:.3f}')"
   ]
  },
  {
   "cell_type": "markdown",
   "id": "0a220862",
   "metadata": {},
   "source": [
    "## 📊 ANOVA : comparaison de moyennes pour plusieurs groupes"
   ]
  },
  {
   "cell_type": "code",
   "execution_count": null,
   "id": "4f8320af",
   "metadata": {},
   "outputs": [],
   "source": [
    "anova_result = stats.f_oneway(\n",
    "    df[df['day'] == 'Thur']['tip'],\n",
    "    df[df['day'] == 'Fri']['tip'],\n",
    "    df[df['day'] == 'Sat']['tip'],\n",
    "    df[df['day'] == 'Sun']['tip']\n",
    ")\n",
    "print(f'F-statistic: {anova_result.statistic:.3f}, p-value: {anova_result.pvalue:.3f}')"
   ]
  },
  {
   "cell_type": "markdown",
   "id": "bcdbd7b5",
   "metadata": {},
   "source": [
    "## 🔢 Test du chi² : indépendance entre deux variables catégorielles"
   ]
  },
  {
   "cell_type": "code",
   "execution_count": null,
   "id": "75ffa98e",
   "metadata": {},
   "outputs": [],
   "source": [
    "contingency_table = pd.crosstab(df['sex'], df['smoker'])\n",
    "chi2, p, dof, expected = stats.chi2_contingency(contingency_table)\n",
    "print(f'Chi² = {chi2:.2f}, p-value = {p:.4f}')"
   ]
  },
  {
   "cell_type": "markdown",
   "id": "3f2a90f1",
   "metadata": {},
   "source": [
    "## 📏 Test de normalité (Shapiro-Wilk)"
   ]
  },
  {
   "cell_type": "code",
   "execution_count": null,
   "id": "d5a735a7",
   "metadata": {},
   "outputs": [],
   "source": [
    "shapiro_stat, shapiro_p = stats.shapiro(df['tip'])\n",
    "print(f'Shapiro-Wilk statistic: {shapiro_stat:.3f}, p-value: {shapiro_p:.4f}')"
   ]
  },
  {
   "cell_type": "markdown",
   "id": "c9fe7ebc",
   "metadata": {},
   "source": [
    "## 📝 Exercices\n",
    "- Testez si les pourboires varient selon le fait de fumer (`smoker`).\n",
    "- Testez si `total_bill` suit une loi normale.\n",
    "- Faites une ANOVA pour la variable `total_bill` par jour.\n",
    "- Testez si le genre (`sex`) et le jour (`day`) sont indépendants."
   ]
  }
 ],
 "metadata": {},
 "nbformat": 4,
 "nbformat_minor": 5
}
