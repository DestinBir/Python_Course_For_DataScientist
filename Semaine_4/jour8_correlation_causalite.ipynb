{
 "cells": [
  {
   "cell_type": "markdown",
   "id": "2d07270d",
   "metadata": {},
   "source": [
    "# 🔗 Jour 8 : Corrélation et Causalité\n",
    "\n",
    "Dans cette séance, nous allons étudier la notion de dépendance entre variables :\n",
    "- Corrélation de Pearson et Spearman\n",
    "- Visualisation des corrélations\n",
    "- Discussion sur la causalité et les limites des corrélations\n",
    "\n",
    "⚠️ Corrélation ≠ Causalité !"
   ]
  },
  {
   "cell_type": "code",
   "execution_count": null,
   "id": "c7206e0e",
   "metadata": {},
   "outputs": [],
   "source": [
    "import pandas as pd\n",
    "import seaborn as sns\n",
    "import matplotlib.pyplot as plt\n",
    "from scipy.stats import pearsonr, spearmanr"
   ]
  },
  {
   "cell_type": "markdown",
   "id": "fcb1222d",
   "metadata": {},
   "source": [
    "## 📥 Chargement du dataset"
   ]
  },
  {
   "cell_type": "code",
   "execution_count": null,
   "id": "b955ce38",
   "metadata": {},
   "outputs": [],
   "source": [
    "df = sns.load_dataset('tips')\n",
    "df.head()"
   ]
  },
  {
   "cell_type": "markdown",
   "id": "29ef5fbe",
   "metadata": {},
   "source": [
    "## 📊 Corrélation de Pearson\n",
    "Mesure la force de la relation linéaire."
   ]
  },
  {
   "cell_type": "code",
   "execution_count": null,
   "id": "93df1467",
   "metadata": {},
   "outputs": [],
   "source": [
    "pearson_corr, p_value = pearsonr(df['total_bill'], df['tip'])\n",
    "print(f'Corrélation de Pearson: {pearson_corr:.3f}, p-value: {p_value:.4f}')"
   ]
  },
  {
   "cell_type": "markdown",
   "id": "ffe8930c",
   "metadata": {},
   "source": [
    "## 🔁 Corrélation de Spearman\n",
    "Corrélation non linéaire, basée sur les rangs."
   ]
  },
  {
   "cell_type": "code",
   "execution_count": null,
   "id": "5f55c825",
   "metadata": {},
   "outputs": [],
   "source": [
    "spearman_corr, p_value_s = spearmanr(df['total_bill'], df['tip'])\n",
    "print(f'Corrélation de Spearman: {spearman_corr:.3f}, p-value: {p_value_s:.4f}')"
   ]
  },
  {
   "cell_type": "markdown",
   "id": "2a339dbb",
   "metadata": {},
   "source": [
    "## 🔥 Heatmap des corrélations"
   ]
  },
  {
   "cell_type": "code",
   "execution_count": null,
   "id": "2ab09642",
   "metadata": {},
   "outputs": [],
   "source": [
    "sns.heatmap(df.corr(numeric_only=True), annot=True, cmap='coolwarm')\n",
    "plt.title('Corrélations entre variables numériques')\n",
    "plt.show()"
   ]
  },
  {
   "cell_type": "markdown",
   "id": "b89eb9fd",
   "metadata": {},
   "source": [
    "## 🤔 Corrélation ≠ Causalité\n",
    "- Une forte corrélation ne prouve **pas** qu’une variable cause l’autre.\n",
    "- Exemple : Le nombre de glaces vendues et les noyades sont corrélés — mais c’est dû à la température !\n",
    "- Pour étudier la causalité : expériences contrôlées, randomisation, modèles économétriques."
   ]
  },
  {
   "cell_type": "markdown",
   "id": "d16d9d50",
   "metadata": {},
   "source": [
    "## 📝 Exercices\n",
    "- Calculez la corrélation entre `size` et `tip`, puis entre `total_bill` et `size`.\n",
    "- Testez la corrélation entre `age` et `fare` dans le dataset `titanic`.\n",
    "- Créez une heatmap pour le dataset `iris` avec `sns.load_dataset('iris')`."
   ]
  }
 ],
 "metadata": {},
 "nbformat": 4,
 "nbformat_minor": 5
}
